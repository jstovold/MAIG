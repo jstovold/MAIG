{
 "cells": [
  {
   "cell_type": "markdown",
   "metadata": {},
   "source": [
    "# MCTS Code for Connect 4\n",
    "\n",
    "(Code adapted from Daniel Hernandez and Peter York)"
   ]
  },
  {
   "cell_type": "markdown",
   "metadata": {},
   "source": [
    "This code makes the C4 output more visible for in-lecture display:"
   ]
  },
  {
   "cell_type": "code",
   "execution_count": null,
   "metadata": {},
   "outputs": [],
   "source": [
    "from IPython.core.display import HTML\n",
    "HTML(\"\"\"\n",
    "<style>\n",
    ".ansi-black-bg {\n",
    "  font-size: 3em;\n",
    "  margin: 0.1em;\n",
    "  line-height: 1;\n",
    "}\n",
    ".ansi-white-bg {\n",
    "  font-size: 3em;\n",
    "  margin: 0.1em;\n",
    "}\n",
    "</style>\n",
    "\"\"\")"
   ]
  },
  {
   "cell_type": "code",
   "execution_count": null,
   "metadata": {
    "scrolled": true
   },
   "outputs": [],
   "source": [
    "from math import sqrt, log\n",
    "import numpy as np\n",
    "import random"
   ]
  },
  {
   "cell_type": "code",
   "execution_count": null,
   "metadata": {
    "scrolled": true
   },
   "outputs": [],
   "source": [
    "import colorama\n",
    "from colorama import Fore, Back"
   ]
  },
  {
   "cell_type": "markdown",
   "metadata": {},
   "source": [
    "## Generic Gamestate interface"
   ]
  },
  {
   "cell_type": "markdown",
   "metadata": {},
   "source": [
    "MCTS is an extremely generic tool for performing (game) tree searches. In order to remain agnostic to the underlying game being played, it requires a generic interface to interact with game trees. This interface is comprised of the following functions:\n",
    "\n",
    "1. `Clone()`: Creates a deep copy of the a game state. This is done so that we can simulate play in a separate environment without modifying the real game being played.\n",
    "2. `GetMoves()`: Returns a list containing all the possible moves (actions) that an agent can execute at this state. A state with no available moves is also known as a terminal state, as the game cannot advance from this state onwards.\n",
    "3. `GetResult()`: To query the outcome of a game upon termination.\n",
    "4. `DoMove()`: The model of the environment. Performs an action in a given state, modifying state. This function is sometimes refered to as the `Step()` function."
   ]
  },
  {
   "cell_type": "code",
   "execution_count": null,
   "metadata": {
    "scrolled": true
   },
   "outputs": [],
   "source": [
    "class GameState:\n",
    "    \"\"\"\n",
    "        A GameState represents a valid configuration of the 'state' of a game.\n",
    "        For instance:\n",
    "            - the position of all the active pieces on a chess board.\n",
    "            - The position and velocities of all the entities in a 3D world.\n",
    "        This interface presents the minimal functionality required to implement\n",
    "        an MCTS-UCT algorithm for a 2 player game.        \n",
    "    \"\"\"\n",
    "\n",
    "    def __init__(self):\n",
    "        self.playerJustMoved = 2 # Game starts with Player 1.\n",
    "\n",
    "    def Clone(self):\n",
    "        \"\"\" \n",
    "        :returns: deep copy of this GameState\n",
    "        \"\"\"\n",
    "        st = GameState()\n",
    "        st.playerJustMoved = self.playerJustMoved\n",
    "        return st\n",
    "\n",
    "    def DoMove(self, move):\n",
    "        \"\"\"\n",
    "        !! This is the environment's model !!\n",
    "        Changes the GameState by carrying out the param move.\n",
    "        :param move: (int) action taken by an agent.\n",
    "        \"\"\"\n",
    "        self.playerJustMoved = 3 - self.playerJustMoved\n",
    "\n",
    "    def GetMoves(self):\n",
    "        \"\"\" :returns: int array with all available moves at this state\n",
    "        \"\"\"\n",
    "        pass\n",
    "        \n",
    "    def IsGameOver(self):\n",
    "        \"\"\" :returns: whether this GameState is a terminal state\n",
    "        \"\"\"\n",
    "        return self.GetMoves() == []\n",
    "\n",
    "    def GetResult(self, player):\n",
    "        \"\"\" \n",
    "        :param player: (int) player which we want to see if he / she is a winner\n",
    "        :returns: winner from the perspective of the param player\n",
    "        \"\"\"\n",
    "        pass"
   ]
  },
  {
   "cell_type": "markdown",
   "metadata": {},
   "source": [
    "# Connect 4"
   ]
  },
  {
   "cell_type": "markdown",
   "metadata": {},
   "source": [
    "<img src=\"images/connect4.png\" alt=\"drawing\" width=\"350\"/>"
   ]
  },
  {
   "cell_type": "markdown",
   "metadata": {},
   "source": [
    "Connect 4 is a **two player**, **zero-sum**, **symetrical** connection game, in which players take turns dropping one coloured disc from the top into a seven-column, six-row grid. The pieces fall straight down, occupying the lowest available space within the column. The objective of the game is to be the first to form a horizontal, vertical or diagonal line of four of one's own discs."
   ]
  },
  {
   "cell_type": "markdown",
   "metadata": {},
   "source": [
    "The game of Connect 4 can be represented programatically using the `GameState` interface shown above in the following way:"
   ]
  },
  {
   "cell_type": "code",
   "execution_count": null,
   "metadata": {
    "scrolled": true
   },
   "outputs": [],
   "source": [
    "class Connect4State(GameState):\n",
    "    \"\"\"\n",
    "        GameState for the Connect 4 game.\n",
    "        The board is represented as a 2D array (rows and columns).\n",
    "        Each entry on the array can be:\n",
    "            - 0 = empty    (.)\n",
    "            - 1 = player 1 (X)\n",
    "            - 2 = player 2 (O)\n",
    "    \"\"\"\n",
    "\n",
    "    def __init__(self, width=7, height=6, connect=4):\n",
    "        self.playerJustMoved = 2\n",
    "        self.winner = 0 # 0 = no winner, 1 = Player 1 wins, 2 = Player 2 wins.\n",
    "\n",
    "        self.width = width\n",
    "        self.height = height\n",
    "        self.connect = connect\n",
    "        self.InitializeBoard()\n",
    "\n",
    "    def InitializeBoard(self):\n",
    "        \"\"\" \n",
    "        Initialises the Connect 4 gameboard.\n",
    "        \"\"\"\n",
    "        self.board = []\n",
    "        for y in range(self.width):\n",
    "            self.board.append([0] * self.height)\n",
    "\n",
    "    def Clone(self):\n",
    "        \"\"\" \n",
    "        Creates a deep copy of the game state.\n",
    "        NOTE: it is _really_ important that a copy is used during simulations\n",
    "              Because otherwise MCTS would be operating on the real game board.\n",
    "        :returns: deep copy of this GameState\n",
    "        \"\"\"\n",
    "        st = Connect4State(width=self.width, height=self.height)\n",
    "        st.playerJustMoved = self.playerJustMoved\n",
    "        st.winner = self.winner\n",
    "        st.board = [self.board[col][:] for col in range(self.width)]\n",
    "        return st\n",
    "\n",
    "    def DoMove(self, movecol):\n",
    "        \"\"\" \n",
    "        Changes this GameState by \"dropping\" a chip in the column\n",
    "        specified by param movecol.\n",
    "        :param movecol: column over which a chip will be dropped\n",
    "        \"\"\"\n",
    "        assert movecol >= 0 and movecol <= self.width and self.board[movecol][self.height - 1] == 0\n",
    "        row = self.height - 1\n",
    "        while row >= 0 and self.board[movecol][row] == 0:\n",
    "            row -= 1\n",
    "\n",
    "        row += 1\n",
    "\n",
    "        self.playerJustMoved = 3 - self.playerJustMoved\n",
    "        self.board[movecol][row] = self.playerJustMoved\n",
    "        if self.DoesMoveWin(movecol, row):\n",
    "            self.winner = self.playerJustMoved\n",
    "            \n",
    "    def GetMoves(self):\n",
    "        \"\"\"\n",
    "        :returns: array with all possible moves, index of columns which aren't ful\n",
    "        \"\"\"\n",
    "        if self.winner != 0:\n",
    "            return []\n",
    "        return [col for col in range(self.width) if self.board[col][self.height - 1] == 0]\n",
    "\n",
    "    def DoesMoveWin(self, x, y):\n",
    "        \"\"\" \n",
    "        Checks whether a newly dropped chip at position param x, param y\n",
    "        wins the game.\n",
    "        :param x: column index\n",
    "        :param y: row index\n",
    "        :returns: (boolean) True if the previous move has won the game\n",
    "        \"\"\"\n",
    "        me = self.board[x][y]\n",
    "        for (dx, dy) in [(0, +1), (+1, +1), (+1, 0), (+1, -1)]:\n",
    "            p = 1\n",
    "            while self.IsOnBoard(x+p*dx, y+p*dy) and self.board[x+p*dx][y+p*dy] == me:\n",
    "                p += 1\n",
    "            n = 1\n",
    "            while self.IsOnBoard(x-n*dx, y-n*dy) and self.board[x-n*dx][y-n*dy] == me:\n",
    "                n += 1\n",
    "\n",
    "            if p + n >= (self.connect + 1): # want (p-1) + (n-1) + 1 >= 4, or more simply p + n >- 5\n",
    "                return True\n",
    "\n",
    "        return False\n",
    "\n",
    "    def IsOnBoard(self, x, y):\n",
    "        return x >= 0 and x < self.width and y >= 0 and y < self.height\n",
    "\n",
    "    def GetResult(self, player):\n",
    "        \"\"\" \n",
    "        :param player: (int) player which we want to see if he / she is a winner\n",
    "        :returns: winner from the perspective of the param player\n",
    "        \"\"\"\n",
    "        return player == self.winner\n",
    "\n",
    "    def __repr__(self):\n",
    "        s = \"\"\n",
    "        for x in range(self.height - 1, -1, -1):\n",
    "            for y in range(self.width):\n",
    "                s += [Back.WHITE + Fore.WHITE + '.', Back.BLACK + Fore.WHITE + 'X', Back.BLACK + Fore.WHITE + 'O'][self.board[y][x]]\n",
    "                s += Fore.RESET\n",
    "                s += Back.RESET\n",
    "            s += \"\\n\"\n",
    "        s += \"\\n\\n\\n\"\n",
    "        return s"
   ]
  },
  {
   "cell_type": "markdown",
   "metadata": {},
   "source": [
    "# The Game loop"
   ]
  },
  {
   "cell_type": "markdown",
   "metadata": {},
   "source": [
    "The game loop is probably the most important coding pattern in the field of video game programming. A game loop runs continuously during gameplay. Each turn of the loop, it processes user input, updates the game state, and renders the game. Here we will have the game play out randomly, as this is the simplest way to do rollouts in MCTS."
   ]
  },
  {
   "cell_type": "markdown",
   "metadata": {},
   "source": [
    "<img src=\"images/game-loop.png\" alt=\"drawing\" width=\"800\"/>"
   ]
  },
  {
   "cell_type": "code",
   "execution_count": null,
   "metadata": {
    "scrolled": true
   },
   "outputs": [],
   "source": [
    "def PlayGame(initialState):\n",
    "    state = initialState\n",
    "    while not state.IsGameOver():\n",
    "        # Render\n",
    "        print(str(state))\n",
    "        # Capture user input\n",
    "        if state.playerJustMoved == 1:\n",
    "            # Player 2 turn\n",
    "            move = random.choice(state.GetMoves())\n",
    "        else:\n",
    "            # Player 1 turn\n",
    "            move = random.choice(state.GetMoves())\n",
    "        # Update game state\n",
    "        state.DoMove(move)\n",
    "\n",
    "    PrintGameResults(state)"
   ]
  },
  {
   "cell_type": "code",
   "execution_count": null,
   "metadata": {
    "scrolled": true
   },
   "outputs": [],
   "source": [
    "def PrintGameResults(state):\n",
    "    \"\"\" \n",
    "    Print match results. Function assumes match is over.\n",
    "    \"\"\"\n",
    "    if state.GetResult(state.playerJustMoved) == 1.0:\n",
    "        print(str(state))\n",
    "        print(\"Player \" + str(state.playerJustMoved) + \" wins!\")\n",
    "    elif state.GetResult(state.playerJustMoved) == 0.0:\n",
    "        print(str(state))\n",
    "        print(\"Player \" + str(3 - state.playerJustMoved) + \" wins!\")\n",
    "    else:\n",
    "        print(\"Nobody wins!\")"
   ]
  },
  {
   "cell_type": "code",
   "execution_count": null,
   "metadata": {
    "scrolled": false
   },
   "outputs": [],
   "source": [
    "env = Connect4State(width=7, height= 6)\n",
    "PlayGame(env)"
   ]
  },
  {
   "cell_type": "markdown",
   "metadata": {},
   "source": [
    "# Game Trees"
   ]
  },
  {
   "cell_type": "code",
   "execution_count": null,
   "metadata": {
    "scrolled": true
   },
   "outputs": [],
   "source": [
    "class Node:\n",
    "    \"\"\" Node of a game tree. A tree is a connected acyclic graph.\n",
    "        Note: self.wins is from the perspective of playerJustMoved.\n",
    "    \"\"\"\n",
    "\n",
    "    def __init__(self, move=None, parent=None, state=None):\n",
    "        self.move = move  # Move that was taken to reach this game state \n",
    "        self.parentNode = parent  # \"None\" for the root node\n",
    "        self.childNodes = []\n",
    "        \n",
    "        self.wins = 0\n",
    "        self.visits = 0\n",
    "        self.untriedMoves = state.GetMoves()  # Future childNodes\n",
    "        self.playerJustMoved = state.playerJustMoved  # To check who won or who lost.\n",
    "        \n",
    "    def IsFullyExpanded(self):\n",
    "        return self.untriedMoves == []\n",
    "\n",
    "    def AddChild(self, move, state):\n",
    "        \"\"\"\n",
    "        Adds a new child node to this Node. \n",
    "        :param move: (int) action taken by the player\n",
    "        :param state: (GameState) state corresponding to new child node\n",
    "        :returns: new expanded node added to the tree\n",
    "        \"\"\"\n",
    "        node = Node(move=move, parent=self, state=state)\n",
    "        self.untriedMoves.remove(move)\n",
    "        self.childNodes.append(node)\n",
    "        return node\n",
    "\n",
    "    def Update(self, result):\n",
    "        \"\"\"\n",
    "        Updates the node statistics saved in this node with the param result\n",
    "         which is the information obtained during the latest rollout.\n",
    "        :param result: (bool) 1 for victory, 0 for draw / loss.\n",
    "        \"\"\"\n",
    "        self.visits += 1\n",
    "        self.wins += result"
   ]
  },
  {
   "cell_type": "markdown",
   "metadata": {},
   "source": [
    "# Part 2: Monte Carlo Tree Search (MCTS-UCT)"
   ]
  },
  {
   "cell_type": "markdown",
   "metadata": {},
   "source": [
    "Monte Carlo Tree Search is a best-first (greedy) search algorithm that gradually builds up a search tree and uses Monte Carlo simulations to approximate the value of game states. Given a current state of the game, by estimating the value of all possible next game states, we can take the action which will take us the next game state with highest value.\n",
    "\n",
    "MCTS is initialized with only the root node of a tree. This root node represents the current game state in which the decision is to be made. The algorithm repeats a 4-phase iteration loop until a computational budget expires. The concept of computational budget normally takes the shape of a fixed amount of iterations, or a fixed amount of computational time. The latter being the most common. \n",
    "\n",
    "UCT stands for UCB applied to trees, and is used in the selection phase depicted below."
   ]
  },
  {
   "cell_type": "markdown",
   "metadata": {},
   "source": [
    "<img src=\"images/mcts-diagram.png\" alt=\"drawing\" width=\"800\"/>"
   ]
  },
  {
   "cell_type": "code",
   "execution_count": null,
   "metadata": {
    "scrolled": true
   },
   "outputs": [],
   "source": [
    "def MCTS_UCT(rootstate, itermax, exploration_factor_ucb1=sqrt(2)):\n",
    "    \"\"\" \n",
    "    Conducts a game tree search using the MCTS-UCT algorithm\n",
    "    for a total of param itermax iterations. The search begins\n",
    "    in the param rootstate. Assumes that 2 players are alternating\n",
    "    with results being [0.0, 1.0].\n",
    "\n",
    "    :param rootstate: The game state for which an action must be selected.\n",
    "    :param itermax: number of MCTS iterations to be carried out. Also knwon as the computational budget.\n",
    "    :returns: (int) Action that will be taken by an agent.\n",
    "    \"\"\"\n",
    "    rootnode = Node(state=rootstate)\n",
    "    \n",
    "    for i in range(itermax):\n",
    "        node  = rootnode\n",
    "        state = rootstate.Clone()\n",
    "\n",
    "        node  = selection_phase(node, state, selection_policy=UCB1, selection_policy_args=[exploration_factor_ucb1])\n",
    "\n",
    "        node  = expansion_phase(node, state)\n",
    "            \n",
    "        rollout_phase(state)\n",
    "            \n",
    "        backpropagation_phase(node, state)\n",
    "    \n",
    "    return action_selection_phase(rootnode)"
   ]
  },
  {
   "cell_type": "markdown",
   "metadata": {},
   "source": [
    "## Selection Phase\n",
    "\n",
    "\n",
    "The selection phase chooses which part of the tree will be explored next, based on the previous information collected during the MCTS run. It always begins in the root node of the game tree, and it is repeated recursively until a node which isn't fully expanded has been reached. A node is considered fully expanded if all of its child nodes have been visited at least once. The selection phase traverses the known tree until a leave node is reached. This is the node that MCTS deems most promising, hence we get the notion of \"best-first\". \n",
    "\n",
    "The selection phase is carried out thus:\n",
    "\n",
    "1. If the current node is fully expanded, continue, else finish phase.\n",
    "2. Use a selection equation to determine the best child node. The selection phase of the algorithm we are covering, MCTS-UCT, is governed by the UCB1 equation below.\n",
    "3. Traverse the tree to the node with the highest selection value.\n",
    "4. Repeat\n",
    "\n",
    "$$UCB1 = \\frac{w_i}{n_i} + c \\sqrt{\\frac{\\log{N_i}}{n_i}}$$\n",
    "\n",
    "+ $w_i$: Number of victories accumulated at **child node** $i$.\n",
    "+ $n_i$: Number of visits accumulated at **child node** $i$.\n",
    "+ $N_i$: Number of visits accumulated at currently selected node.\n",
    "+ $c$: exploration parameter. Constant value that allows a tradeoff between exploration and exploitation. A lower value for $c$ increases the importance of exploitation, and a higher value biases the selection towards exploration. Further reading on [exploitation vs exploration](https://medium.com/@dennybritz/exploration-vs-exploitation-f46af4cf62fe)"
   ]
  },
  {
   "cell_type": "code",
   "execution_count": null,
   "metadata": {
    "scrolled": true
   },
   "outputs": [],
   "source": [
    "def UCB1(node, child, exploration_constant=sqrt(2)):\n",
    "    return child.wins / child.visits + exploration_constant * sqrt(log(node.visits) / child.visits)"
   ]
  },
  {
   "cell_type": "code",
   "execution_count": null,
   "metadata": {
    "scrolled": true
   },
   "outputs": [],
   "source": [
    "def selection_phase(node, state, selection_policy=UCB1, selection_policy_args=[]):\n",
    "    if not node.IsFullyExpanded() or node.childNodes == []:\n",
    "        return node\n",
    "    selected_node = sorted(node.childNodes, key=lambda child: selection_policy(node, child, *selection_policy_args))[-1]\n",
    "    state.DoMove(selected_node.move)\n",
    "    return selection_phase(selected_node, state)"
   ]
  },
  {
   "cell_type": "markdown",
   "metadata": {},
   "source": [
    "## Expansion Phase"
   ]
  },
  {
   "cell_type": "markdown",
   "metadata": {},
   "source": [
    "Once a node which isn't fully expanded has been reached, one of it's unvisited child nodes is choosen at random, increasing the tree by adding one more node with some initialized statistics. This child node is *expanded* by:\n",
    "\n",
    "1. Adding the child node to the MCTS tree, as a child to the node selected in the Selection phase.\n",
    "2. Instantiating all relevant statistics used in the selection formula for in the Selection phase. For UCB1, these statistics are:\n",
    "\n",
    "\n",
    "+ $w$: number of victories achieved in a rollout where this node was selected.\n",
    "+ $n$: number of times this node has been visited (i.e selected during selection phase)."
   ]
  },
  {
   "cell_type": "code",
   "execution_count": null,
   "metadata": {
    "scrolled": true
   },
   "outputs": [],
   "source": [
    "def expansion_phase(node, state):\n",
    "    if node.untriedMoves != []:  # if we can expand (i.e. state/node is non-terminal)\n",
    "        move = random.choice(node.untriedMoves)\n",
    "        state.DoMove(move)\n",
    "        node = node.AddChild(move, state)\n",
    "    return node"
   ]
  },
  {
   "cell_type": "markdown",
   "metadata": {},
   "source": [
    "## Rollout Phase"
   ]
  },
  {
   "cell_type": "markdown",
   "metadata": {},
   "source": [
    "In our context, a rollout is a Monte Carlo (i.e random) tree traversal that begins in a node of the game tree and ends in a terminal node. It's a game simulation that takes place in a cloned version of the real game being played. The simulation of the rollout phase begins in the last node expanded in the expansion phase. Random actions are taken for all players until a termninal node is reached. The fact that we are taking random actions by all agents is important, as it ensures that we are computing an unbiased monte carlo estimate of the value function for the state represented in the node where the simulation began.\n",
    "\n",
    "**Note**: Except for the node where the simulation begins, all game tree nodes visited during a rollout are *NOT* part of the tree being built by MCTS."
   ]
  },
  {
   "cell_type": "code",
   "execution_count": null,
   "metadata": {
    "scrolled": true
   },
   "outputs": [],
   "source": [
    "def rollout_phase(state):\n",
    "    while state.GetMoves() != []:\n",
    "        state.DoMove(random.choice(state.GetMoves()))"
   ]
  },
  {
   "cell_type": "markdown",
   "metadata": {},
   "source": [
    "## Backpropagation"
   ]
  },
  {
   "cell_type": "markdown",
   "metadata": {},
   "source": [
    "Once a terminal node is reached during the rollout phase, the result of the simulation is observed. For vanilla MCTS, the result is a binary random variable, either a win or a loss. This result is backpropagated through both the newly expanded node, and all the nodes selected during the selection phase. To backpropagate the result means to update the statistics of all nodes on the route from the root of the tree to the node where the rollout began. These statistics are the number of visits $n_i$ and wins $w_i$ for a given node $i$. "
   ]
  },
  {
   "cell_type": "code",
   "execution_count": null,
   "metadata": {
    "scrolled": true
   },
   "outputs": [],
   "source": [
    "def backpropagation_phase(node, state):\n",
    "    if node is not None:\n",
    "        node.Update(state.GetResult(node.playerJustMoved))\n",
    "        backpropagation_phase(node.parentNode, state)"
   ]
  },
  {
   "cell_type": "markdown",
   "metadata": {},
   "source": [
    "## Action selection\n",
    "\n",
    "Once the computational budget has run out, the last step in any MCTS algorithm is to select an action to take in the actual game being played. As it is the case with all phases of MCTS, there are different approaches. The two most common ones are the following:\n",
    "\n",
    "1. If we stay true to the assumption that MCTS searches a game tree using a best-first (greedy) heuristic, the most visited child node must correspond to the most valuable action explored by MCTS. Thus, we select the action corresponding to the child node $i$ which features the highest visit count $n_i$.\n",
    "\n",
    "2. Alternatively, we can select the action which has the highest expected winrate. That is, for all child nodes of the root node, select the action that maximises $\\frac{w_i}{n_i}$, the empirical winrate of the action encoded in the edge linking the root node with the child node $i$."
   ]
  },
  {
   "cell_type": "code",
   "execution_count": null,
   "metadata": {
    "scrolled": true
   },
   "outputs": [],
   "source": [
    "def action_selection_phase(node):\n",
    "    return sorted(node.childNodes, key=lambda c: c.wins / c.visits)[-1].move"
   ]
  },
  {
   "cell_type": "markdown",
   "metadata": {},
   "source": [
    "## Algorithm termination"
   ]
  },
  {
   "cell_type": "markdown",
   "metadata": {},
   "source": [
    "One of the greatest advantages of MCTS is that it is an *anytime algorithm*, meaning that its computation can be stopped an any time and queried for the best action computed given the computational time that it has used until then. This is particularly useful in videogames, as the computational resources often need to be divided between rendering, player input, network features, etc. In these cases it may not be possible to assign a constant computational budget to the AI algorithm being used."
   ]
  },
  {
   "cell_type": "markdown",
   "metadata": {},
   "source": [
    "## Combining everything"
   ]
  },
  {
   "cell_type": "markdown",
   "metadata": {},
   "source": [
    "Let's put all phases together into a unique function."
   ]
  },
  {
   "cell_type": "code",
   "execution_count": null,
   "metadata": {
    "scrolled": true
   },
   "outputs": [],
   "source": [
    "def MCTS_UCT(rootstate, itermax, exploration_factor_ucb1=sqrt(2)):\n",
    "    \"\"\" \n",
    "    Conducts a game tree search using the MCTS-UCT algorithm\n",
    "    for a total of param itermax iterations. The search begins\n",
    "    in the param rootstate. Assumes that 2 players are alternating\n",
    "    with results being [0.0, 1.0].\n",
    "\n",
    "    :param rootstate: The game state for which an action must be selected.\n",
    "    :param itermax: number of MCTS iterations to be carried out. Also knwon as the computational budget.\n",
    "    :returns: (int) Action that will be taken by an agent.\n",
    "    \"\"\"\n",
    "    rootnode = Node(state=rootstate)\n",
    "    \n",
    "    for i in range(itermax):\n",
    "        node  = rootnode\n",
    "        state = rootstate.Clone()\n",
    "\n",
    "        node  = selection_phase(node, state, selection_policy=UCB1, selection_policy_args=[exploration_factor_ucb1])\n",
    "\n",
    "        node  = expansion_phase(node, state)\n",
    "            \n",
    "        rollout_phase(state)\n",
    "            \n",
    "        backpropagation_phase(node, state)\n",
    "    \n",
    "    return action_selection_phase(rootnode)"
   ]
  },
  {
   "cell_type": "markdown",
   "metadata": {},
   "source": [
    "# Playing"
   ]
  },
  {
   "cell_type": "code",
   "execution_count": null,
   "metadata": {
    "scrolled": true
   },
   "outputs": [],
   "source": [
    "def PlayGame(initialState, budget=10000):\n",
    "    state = initialState\n",
    "    while not state.IsGameOver():  # If we're not in a terminal state\n",
    "        print(str(state))\n",
    "        if state.playerJustMoved == 1:\n",
    "            # Player 2 turn\n",
    "            move = MCTS_UCT(state, itermax=budget) # Now we are using UCT instead of random!\n",
    "        else:\n",
    "            # Player 1 turn\n",
    "            move = MCTS_UCT(state, itermax=budget)\n",
    "        state.DoMove(move)\n",
    "    PrintGameResults(state)"
   ]
  },
  {
   "cell_type": "code",
   "execution_count": null,
   "metadata": {
    "scrolled": true
   },
   "outputs": [],
   "source": [
    "InitialState = Connect4State()\n",
    "PlayGame(InitialState, 10000)"
   ]
  },
  {
   "cell_type": "markdown",
   "metadata": {},
   "source": [
    "# Part 4: Algorithm robustness"
   ]
  },
  {
   "cell_type": "markdown",
   "metadata": {},
   "source": [
    "**Definition of robustness**: qualitative property of the algorithm of maintaining a good performance whilst being agnostic to changes of the underlying problem."
   ]
  },
  {
   "cell_type": "markdown",
   "metadata": {},
   "source": [
    "## Robustness to game modification"
   ]
  },
  {
   "cell_type": "markdown",
   "metadata": {},
   "source": [
    "<img src=\"images/connect-four-thousand.jpeg\" alt=\"drawing\" width=\"300\"/>"
   ]
  },
  {
   "cell_type": "markdown",
   "metadata": {},
   "source": [
    "Let's change the rules of the game. Instead of playing Connect 4 on a 7x6 board. Let's play Connect 4 on a 20x14 board. What are the effects of these changes on the game tree representing this new game?\n",
    "\n",
    "+ Increases complexity of the underlying game tree, requiring more rollouts to reach a good approximation.\n",
    "+ The branching factor of the game tree increases greatly since a player now has 20 possible actions rather than 7.\n",
    "+ Increases rollout length, increasing computational need of each iteration.\n",
    "\n",
    "Now let's try Connect 4 on a 7x40 board. What are the effects of these changes on the game tree representing this new game?\n",
    "\n",
    "\n",
    "+ Increases complexity of the underlying game tree, requiring more rollouts to reach a good approximation.\n",
    "+ The branching factor of the game tree actually remains the same as the original game since a player has 7 possible actions at each move.\n",
    "+ Increases rollout length, increasing computational need of each iteration."
   ]
  },
  {
   "cell_type": "code",
   "execution_count": null,
   "metadata": {
    "scrolled": true
   },
   "outputs": [],
   "source": [
    "initialState = Connect4State(width=20, height=14, connect=4)\n",
    "PlayGame(initialState)"
   ]
  },
  {
   "cell_type": "code",
   "execution_count": null,
   "metadata": {
    "scrolled": true
   },
   "outputs": [],
   "source": [
    "import matplotlib.pyplot as plot\n",
    "import time\n",
    "import numpy as np\n",
    "\n",
    "\n",
    "def plot_action_frequencies(state, budget, bins=[0,1,2,3,4,5,6,7], runs=100):\n",
    "    x=[]\n",
    "    mctsAverageRuntime = 0\n",
    "    for i in range(runs):\n",
    "        startTime = time.time()\n",
    "        move = MCTS_UCT(state, itermax=budget)\n",
    "        x += [move]\n",
    "        mctsAverageRuntime += (time.time() - startTime) / runs\n",
    "    \n",
    "    plot.hist(x, align='left', bins=bins, edgecolor='black', density=True)\n",
    "    plot.xlabel(\"Move ID\")\n",
    "    plot.ylabel(\"Frequency\")\n",
    "    print(\"Average MCTS Runtime - \" + str(mctsAverageRuntime))"
   ]
  },
  {
   "cell_type": "code",
   "execution_count": null,
   "metadata": {
    "scrolled": true
   },
   "outputs": [],
   "source": [
    "plot_action_frequencies(Connect4State(), budget=100)"
   ]
  },
  {
   "cell_type": "code",
   "execution_count": null,
   "metadata": {
    "scrolled": true
   },
   "outputs": [],
   "source": [
    "plot_action_frequencies(Connect4State(width=7, height=40), budget=100)"
   ]
  },
  {
   "cell_type": "code",
   "execution_count": null,
   "metadata": {
    "scrolled": false
   },
   "outputs": [],
   "source": [
    "plot_action_frequencies(Connect4State(width=11, height=6), budget=100, bins=np.arange(0,11))"
   ]
  },
  {
   "cell_type": "code",
   "execution_count": null,
   "metadata": {
    "scrolled": false
   },
   "outputs": [],
   "source": [
    "plot_action_frequencies(Connect4State(width=11, height=6), budget=2000, bins=np.arange(0,11))"
   ]
  },
  {
   "cell_type": "markdown",
   "metadata": {},
   "source": [
    "(N.B. I wouldn't recommend running the below functions, they take a very long time to complete!)"
   ]
  },
  {
   "cell_type": "code",
   "execution_count": null,
   "metadata": {
    "scrolled": true
   },
   "outputs": [],
   "source": [
    "def calculate_optimality_of_move(state, bins, budget=50000, runs=50, optimal_move=3, exploration_factor=sqrt(2)):\n",
    "    x = []\n",
    "    for i in range(runs):\n",
    "        move = MCTS_UCT(state, itermax=budget, exploration_factor_ucb1=exploration_factor)\n",
    "        x += [move]\n",
    "    density, bins = np.histogram(x, bins=bins, density=True)\n",
    "    return density[optimal_move]\n",
    "        \n",
    "def plot_optimality_of_moves_over_exploration_factor(state, bins=[0,1,2,3,4,5,6], min_value=0, max_value=1, step=0.3):\n",
    "    optimal_move = int((len(bins)-1)/2)\n",
    "    y = []\n",
    "    x = np.arange(min_value, max_value, step)\n",
    "    for exploration_factor in x:\n",
    "        move_optimality = calculate_optimality_of_move(state, optimal_move=optimal_move, bins=bins, exploration_factor=exploration_factor)\n",
    "        y += [move_optimality]\n",
    "    plot.plot(x,y, marker='o', linestyle='--')\n",
    "    plot.xlabel(\"Exploration factor\")\n",
    "    plot.ylabel(\"Move optimality\")\n",
    "    \n",
    "def plot_optimality_of_moves_over_budget(state, bins=[0,1,2,3,4,5,6], min_value=0, max_value=1, step=0.3):\n",
    "    optimal_move = int((len(bins)-1)/2)\n",
    "    y = []\n",
    "    x = np.arange(min_value, max_value, step)\n",
    "    for budget in x:\n",
    "        move_optimality = calculate_optimality_of_move(state, optimal_move=optimal_move, bins=bins, budget=budget)\n",
    "        y += [move_optimality]\n",
    "    plot.plot(x,y, marker='o', linestyle='--')\n",
    "    plot.xlabel(\"Budget (iterations)\")\n",
    "    plot.ylabel(\"Move optimality\")"
   ]
  },
  {
   "cell_type": "code",
   "execution_count": null,
   "metadata": {
    "scrolled": true
   },
   "outputs": [],
   "source": [
    "plot_optimality_of_moves_over_exploration_factor(Connect4State(), \n",
    "                                                 bins=np.arange(0,8),\n",
    "                                                 min_value=-2,\n",
    "                                                 max_value=4, \n",
    "                                                 step=0.1)"
   ]
  },
  {
   "cell_type": "markdown",
   "metadata": {},
   "source": [
    "<img src=\"images/exploration-factor-plot.png\" align=\"left\" alt=\"drawing\" width=\"500\"/>"
   ]
  },
  {
   "cell_type": "code",
   "execution_count": null,
   "metadata": {
    "scrolled": true
   },
   "outputs": [],
   "source": [
    "plot_optimality_of_moves_over_budget(Connect4State(),\n",
    "                                     bins=np.arange(0,8),\n",
    "                                     min_value=100,\n",
    "                                     max_value=2000, \n",
    "                                     step=100)"
   ]
  },
  {
   "cell_type": "markdown",
   "metadata": {},
   "source": [
    "<img src=\"images/budget-plot.png\" align=\"left\" alt=\"drawing\" width=\"500\"/>"
   ]
  },
  {
   "cell_type": "markdown",
   "metadata": {},
   "source": [
    "## Robustness to other games"
   ]
  },
  {
   "cell_type": "markdown",
   "metadata": {},
   "source": [
    "<img src=\"images/tic-tac-toe.png\" alt=\"drawing\" width=\"300\"/>"
   ]
  },
  {
   "cell_type": "code",
   "execution_count": null,
   "metadata": {
    "scrolled": true
   },
   "outputs": [],
   "source": [
    "class TicTacToeState(GameState):\n",
    "    \"\"\" A state of the game, i.e. the game board.\n",
    "        Squares in the board are in this arrangement\n",
    "        012\n",
    "        345\n",
    "        678\n",
    "        where 0 = empty, 1 = player 1 (X), 2 = player 2 (O)\n",
    "    \"\"\"\n",
    "\n",
    "    def __init__(self):\n",
    "        self.playerJustMoved = 2  # At the root pretend the player just moved is p2 - p1 has the first move\n",
    "        self.board = [0, 0, 0, 0, 0, 0, 0, 0, 0]  # 0 = empty, 1 = player 1, 2 = player 2\n",
    "\n",
    "    def Clone(self):\n",
    "        \"\"\" Create a deep clone of this game state.\n",
    "        \"\"\"\n",
    "        st = TicTacToeState()\n",
    "        st.playerJustMoved = self.playerJustMoved\n",
    "        st.board = self.board[:]\n",
    "        return st\n",
    "\n",
    "    def DoMove(self, move):\n",
    "        \"\"\" Update a state by carrying out the given move.\n",
    "            Must update playerToMove.\n",
    "        \"\"\"\n",
    "        assert move >= 0 and move <= 8 and move == int(move) and self.board[move] == 0\n",
    "        self.playerJustMoved = 3 - self.playerJustMoved\n",
    "        self.board[move] = self.playerJustMoved            \n",
    "\n",
    "    def GetMoves(self):\n",
    "        \"\"\" Get all possible moves from this state.\n",
    "        \"\"\"\n",
    "        return [i for i in range(9) if self.board[i] == 0]\n",
    "\n",
    "    def DoesBoardWin(self):\n",
    "\n",
    "        for (x, y, z) in [(0, 1, 2), (3, 4, 5), (6, 7, 8), (0, 3, 6), (1, 4, 7), (2, 5, 8), (0, 4, 8), (2, 4, 6)]:\n",
    "            if self.board[x] == self.board[y] == self.board[z]:\n",
    "                if not self.board[x] == 0:\n",
    "                    return True\n",
    "        \n",
    "        return False\n",
    "        \n",
    "        \n",
    "    def GetResult(self, playerjm):\n",
    "        \"\"\" Get the game result from the viewpoint of playerjm for a finished game.\n",
    "        \"\"\"\n",
    "        for (x, y, z) in [(0, 1, 2), (3, 4, 5), (6, 7, 8), (0, 3, 6), (1, 4, 7), (2, 5, 8), (0, 4, 8), (2, 4, 6)]:\n",
    "            if self.board[x] == self.board[y] == self.board[z]:\n",
    "                if self.board[x] == playerjm:\n",
    "                    return 1.0\n",
    "                else:\n",
    "                    return 0.0\n",
    "        if self.GetMoves() == []: return 0.5  # draw\n",
    "        assert False  # Should not be possible to get here\n",
    "\n",
    "    def IsGameOver(self):\n",
    "        \"\"\" :returns: whether this GameState is a terminal state\n",
    "        \"\"\"\n",
    "        return self.GetMoves() == [] or self.DoesBoardWin()\n",
    "        \n",
    "        \n",
    "    def __repr__(self):\n",
    "        s = \"\"\n",
    "        for i in range(9):\n",
    "            s += [Back.BLACK + Fore.WHITE + '.', Back.BLACK + Fore.WHITE + 'X', Back.BLACK + Fore.WHITE + 'O'][self.board[i]]\n",
    "            s += Fore.RESET + Back.RESET\n",
    "            if i % 3 == 2: s += \"\\n\"\n",
    "        return s"
   ]
  },
  {
   "cell_type": "code",
   "execution_count": null,
   "metadata": {
    "scrolled": false
   },
   "outputs": [],
   "source": [
    "initialState = TicTacToeState()\n",
    "PlayGame(initialState, budget=100)\n"
   ]
  },
  {
   "cell_type": "code",
   "execution_count": null,
   "metadata": {},
   "outputs": [],
   "source": []
  }
 ],
 "metadata": {
  "kernelspec": {
   "display_name": "Python 3",
   "language": "python",
   "name": "python3"
  },
  "language_info": {
   "codemirror_mode": {
    "name": "ipython",
    "version": 3
   },
   "file_extension": ".py",
   "mimetype": "text/x-python",
   "name": "python",
   "nbconvert_exporter": "python",
   "pygments_lexer": "ipython3",
   "version": "3.7.4"
  }
 },
 "nbformat": 4,
 "nbformat_minor": 2
}
